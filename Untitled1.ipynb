{
 "cells": [
  {
   "cell_type": "code",
   "execution_count": null,
   "id": "1e58019a-285e-4dbc-923f-445acf646722",
   "metadata": {},
   "outputs": [
    {
     "name": "stderr",
     "output_type": "stream",
     "text": [
      "[nltk_data] Downloading package stopwords to\n",
      "[nltk_data]     C:\\Users\\Sri\\AppData\\Roaming\\nltk_data...\n",
      "[nltk_data]   Package stopwords is already up-to-date!\n"
     ]
    }
   ],
   "source": [
    "import pandas as pd\n",
    "import nltk\n",
    "import re\n",
    "import matplotlib.pyplot as plt\n",
    "from sklearn.feature_extraction.text import TfidfVectorizer\n",
    "from sklearn.ensemble import RandomForestClassifier\n",
    "from wordcloud import WordCloud\n",
    "\n",
    "# Download stopwords\n",
    "nltk.download(\"stopwords\")\n",
    "from nltk.corpus import stopwords\n",
    "\n",
    "# Load the scraped job dataset\n",
    "df = pd.read_csv(\"indeed_jobs.csv\")\n",
    "\n",
    "# Ensure 'Job Description' column exists (Modify if missing)\n",
    "if \"Job Description\" not in df.columns:\n",
    "    print(\"Error: 'Job Description' column missing. Modify scraper to include it!\")\n",
    "    exit()\n",
    "\n",
    "# Text Cleaning Function\n",
    "def clean_text(text):\n",
    "    text = text.lower()\n",
    "    text = re.sub(r\"\\W\", \" \", text)  # Remove special characters\n",
    "    text = re.sub(r\"\\d+\", \"\", text)  # Remove numbers\n",
    "    words = text.split()\n",
    "    words = [word for word in words if word not in stopwords.words(\"english\")]\n",
    "    return \" \".join(words)\n",
    "\n",
    "# Apply cleaning to job descriptions\n",
    "df[\"cleaned_description\"] = df[\"Job Description\"].astype(str).apply(clean_text)\n",
    "\n",
    "# TF-IDF Vectorization\n",
    "vectorizer = TfidfVectorizer(max_features=500)\n",
    "X = vectorizer.fit_transform(df[\"cleaned_description\"]).toarray()\n",
    "feature_names = vectorizer.get_feature_names_out()\n",
    "\n",
    "# Simulating 'Skill Demand' labels (You can use real job data for training)\n",
    "df[\"Skill_Demand\"] = df[\"cleaned_description\"].apply(lambda x: 1 if \"python\" in x else 0)\n",
    "\n",
    "# Train a Random Forest Model\n",
    "model = RandomForestClassifier(n_estimators=100, random_state=42)\n",
    "model.fit(X, df[\"Skill_Demand\"])\n",
    "\n",
    "# Feature Importance Analysis\n",
    "importance = model.feature_importances_\n",
    "word_importance = dict(zip(feature_names, importance))\n",
    "\n",
    "# Generate a Word Cloud of Important Words\n",
    "wordcloud = WordCloud(width=800, height=400, background_color=\"white\").generate_from_frequencies(word_importance)\n",
    "\n",
    "# Display the Word Cloud\n",
    "plt.figure(figsize=(10, 5))\n",
    "plt.imshow(wordcloud, interpolation=\"bilinear\")\n",
    "plt.axis(\"off\")\n",
    "plt.title(\"Important Skills in Job Descriptions\")\n",
    "plt.show()\n"
   ]
  }
 ],
 "metadata": {
  "kernelspec": {
   "display_name": "Python 3 (ipykernel)",
   "language": "python",
   "name": "python3"
  },
  "language_info": {
   "codemirror_mode": {
    "name": "ipython",
    "version": 3
   },
   "file_extension": ".py",
   "mimetype": "text/x-python",
   "name": "python",
   "nbconvert_exporter": "python",
   "pygments_lexer": "ipython3",
   "version": "3.10.0"
  }
 },
 "nbformat": 4,
 "nbformat_minor": 5
}
